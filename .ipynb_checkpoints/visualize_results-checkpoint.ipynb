{
 "cells": [
  {
   "cell_type": "code",
   "execution_count": 4,
   "id": "462511c4-7ff4-443f-b3e5-c797c8e77928",
   "metadata": {},
   "outputs": [
    {
     "name": "stdout",
     "output_type": "stream",
     "text": [
      "20000.np4.thr2.4x1\n"
     ]
    }
   ],
   "source": [
    "import matplotlib.pyplot as plt\n",
    "import pandas as pd\n",
    "import sys\n",
    "import os\n",
    "import re\n",
    "\n",
    "sys.argv = [\"visualize_result.py\", \"./csv_output/loss.linear.20000.np4.thr2.4x1.okeanos.csv\"]\n",
    "# Check if the correct number of command-line arguments are provided\n",
    "if len(sys.argv) != 2:\n",
    "    print(\"Usage: python visualize_result.py <file_name>\")\n",
    "    sys.exit(1)\n",
    "\n",
    "parts = sys.argv[1].split('.')\n",
    "filename_skeleton = '.'.join(parts[3:7])\n",
    "print(filename_skeleton)"
   ]
  },
  {
   "cell_type": "code",
   "execution_count": null,
   "id": "756876d0-5624-4750-b87f-f3391402c1c9",
   "metadata": {},
   "outputs": [],
   "source": [
    "# Read the CSV files from command-line arguments\n",
    "sync_file_naive = \"./csv_output/sync.naive.\"+filename_skeleton+\".csv\"\n",
    "sync_file_linear = \"./csv_output/sync.linear.\"+filename_skeleton+\".csv\"\n",
    "\n",
    "loss_file_naive = \"./csv_output/loss.naive.\"+filename_skeleton+\".csv\"\n",
    "loss_file_linear = \"./csv_output/loss.linear.\"+filename_skeleton+\".csv\"\n",
    "\n",
    "# Extract filenames without extensions\n",
    "sync_image_file = \"./image_output/sync.\"+filename_skeleton+\".png\"\n",
    "loss_image_file = \"./image_output/loss.\"+filename_skeleton+\".png\"\n",
    "\n",
    "sync_data_naive = pd.read_csv(sync_file_naive, header=None)\n",
    "sync_data_linear = pd.read_csv(sync_file_linear, header=None)\n",
    "\n",
    "loss_data_naive = pd.read_csv(loss_file_naive, header=None)\n",
    "loss_data_linear = pd.read_csv(loss_file_linear, header=None)\n",
    "\n",
    "np = int(re.search(r'np(\\d+)', filename_skeleton).group(1))\n",
    "\n",
    "batches = sync_data_naive[0]*np\n",
    "sync_data_naive = sync_data_naive[1]\n",
    "sync_data_linear = sync_data_linear[1]\n",
    "loss_data_naive = loss_data_naive[1]\n",
    "loss_data_linear = loss_data_linear[1]\n",
    "\n",
    "plt.figure()\n",
    "\n",
    "plt.plot(batches, sync_data_naive, label='Naive FDA')\n",
    "plt.plot(batches, sync_data_linear, label='Linear FDA')\n",
    "\n",
    "plt.xlabel('Steps / Batch Count')\n",
    "plt.ylabel('Synchronizations')\n",
    "plt.title('Synchronizations per Batch Count')\n",
    "\n",
    "plt.legend()\n",
    "\n",
    "plt.savefig(sync_image_file)\n",
    "\n",
    "plt.show()\n"
   ]
  }
 ],
 "metadata": {
  "kernelspec": {
   "display_name": "Python 3 (ipykernel)",
   "language": "python",
   "name": "python3"
  },
  "language_info": {
   "codemirror_mode": {
    "name": "ipython",
    "version": 3
   },
   "file_extension": ".py",
   "mimetype": "text/x-python",
   "name": "python",
   "nbconvert_exporter": "python",
   "pygments_lexer": "ipython3",
   "version": "3.10.6"
  }
 },
 "nbformat": 4,
 "nbformat_minor": 5
}
