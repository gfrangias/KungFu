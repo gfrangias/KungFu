{
 "cells": [
  {
   "cell_type": "code",
   "execution_count": 11,
   "id": "8cc55acc-0202-4e7f-88bc-e42aa7868831",
   "metadata": {},
   "outputs": [],
   "source": [
    "import pandas as pd\n",
    "\n",
    "class data_analysis:\n",
    "\n",
    "    def __init__(self):\n",
    "\n",
    "        #self.directory = \"examples/fda_examples/csv_files/\"\n",
    "        self.directory = \"../csv_files/\" \n",
    "        self.files = [self.directory + \"info.csv\", self.directory + \"step.csv\", \\\n",
    "                      self.directory + \"epoch.csv\"]\n",
    "        self.dfs = [pd.read_csv(file) for file in self.files]\n",
    "\n",
    "    def print_exp(self, exper_id):\n",
    "\n",
    "        results = [df.query(f\"exper_id == {exper_id}\") for df in self.dfs]\n",
    "\n",
    "        for result in results: print(str(result)+\"\\n\")"
   ]
  },
  {
   "cell_type": "code",
   "execution_count": null,
   "id": "bdd7700e-a32d-417d-b681-f865fdd3bcd1",
   "metadata": {},
   "outputs": [],
   "source": []
  }
 ],
 "metadata": {
  "kernelspec": {
   "display_name": "Python 3 (ipykernel)",
   "language": "python",
   "name": "python3"
  },
  "language_info": {
   "codemirror_mode": {
    "name": "ipython",
    "version": 3
   },
   "file_extension": ".py",
   "mimetype": "text/x-python",
   "name": "python",
   "nbconvert_exporter": "python",
   "pygments_lexer": "ipython3",
   "version": "3.10.6"
  }
 },
 "nbformat": 4,
 "nbformat_minor": 5
}
