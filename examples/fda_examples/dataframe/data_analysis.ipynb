{
 "cells": [
  {
   "cell_type": "code",
   "execution_count": 2,
   "metadata": {},
   "outputs": [],
   "source": [
    "import pandas as pd\n",
    "import glob\n",
    "\n",
    "class data_analysis:\n",
    "\n",
    "    def __init__(self):\n",
    "\n",
    "        # Directory where all CSV files are located\n",
    "        self.directory = \"../csv_files/latest_expers/\"\n",
    "        \n",
    "        # Create experiments info dataframe\n",
    "        info_file = self.directory + \"info.csv\"\n",
    "        self.info_df = pd.read_csv(info_file)\n",
    "\n",
    "        epoch_files = self.directory + \"epoch_step_info/*epoch.csv\"\n",
    "        step_files = self.directory + \"epoch_step_info/*step.csv\"\n",
    "\n",
    "        # Combine all files for steps and epochs in two dataframes\n",
    "        self.epoch_df, self.step_df = self.concat_epoch_step_files(epoch_files, step_files)\n",
    "\n",
    "        # Add for each step and epoch dataframe row all the experiment info\n",
    "        self.epoch_step_with_info()\n",
    "\n",
    "    # Combine all files for steps and epochs in two dataframes\n",
    "    def concat_epoch_step_files(self, epoch_files, step_files):\n",
    "        epoch_files_list = glob.glob(epoch_files)\n",
    "        step_files_list = glob.glob(step_files)\n",
    "\n",
    "        epoch_dfs, step_dfs = [], []\n",
    "\n",
    "        for epoch_file, step_file in zip(epoch_files_list, step_files_list):\n",
    "            \n",
    "            epoch_file_df = pd.read_csv(epoch_file)\n",
    "            step_file_df = pd.read_csv(step_file)\n",
    "            \n",
    "            epoch_dfs.append(epoch_file_df)\n",
    "            step_dfs.append(step_file_df)    \n",
    "\n",
    "        epoch_df = pd.concat(epoch_dfs, ignore_index=True)\n",
    "        step_df = pd.concat(step_dfs, ignore_index=True)\n",
    "\n",
    "        return epoch_df, step_df\n",
    "    \n",
    "    # Add for each step and epoch dataframe row all the experiment info\n",
    "    def epoch_step_with_info(self):\n",
    "\n",
    "        self.epoch_df = pd.merge(self.info_df, self.epoch_df, on='exper_id')\n",
    "        self.step_df = pd.merge(self.info_df, self.step_df, on='exper_id')\n",
    "        \n",
    "\n",
    "da = data_analysis()"
   ]
  },
  {
   "cell_type": "code",
   "execution_count": 3,
   "metadata": {},
   "outputs": [],
   "source": [
    "grouped_df = da.epoch_df.groupby('exper_id')['accuracy'].max().reset_index()\n",
    "grouped_df =pd.merge(da.info_df, grouped_df, on='exper_id')\n",
    "info_df = da.info_df"
   ]
  },
  {
   "cell_type": "code",
   "execution_count": null,
   "metadata": {},
   "outputs": [],
   "source": []
  }
 ],
 "metadata": {
  "kernelspec": {
   "display_name": "kungfu-technix",
   "language": "python",
   "name": "python3"
  },
  "language_info": {
   "codemirror_mode": {
    "name": "ipython",
    "version": 3
   },
   "file_extension": ".py",
   "mimetype": "text/x-python",
   "name": "python",
   "nbconvert_exporter": "python",
   "pygments_lexer": "ipython3",
   "version": "3.10.6"
  }
 },
 "nbformat": 4,
 "nbformat_minor": 2
}
